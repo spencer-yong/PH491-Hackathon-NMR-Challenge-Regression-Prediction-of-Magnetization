{
  "cells": [
    {
      "cell_type": "markdown",
      "metadata": {
        "id": "p-lmbBG-eMk6"
      },
      "source": [
        "# Hackathon - NMR Challenge\n",
        "\n",
        "\n",
        "### Problem Statement\n",
        "\n",
        "- Nuclear Magnetic Resonance (NMR) is an experimental technique that allows for<br>\n",
        "the control and measurement of nuclear spins in crystals and molecules.<br>\n",
        "- A common \"recipe\" for NMR is called the spin echo: the spins start aligned,<br>\n",
        "begin to disperse, and are then refocused. This creates a sharp peak, or<br> \"echo\", in the net magnetization $M$ of the material at a later time. When the<br>\n",
        "spins interact with each other, this refocused echo can become highly distorted.<br>\n",
        "- Materials with strong electron-electron couplings have a variety of<br> applications, from superconductivity to ferromagnetism. They also tend to<br> enhance the nuclear spin-spin couplings, allowing NMR to act as a probe of <br> these important systems.<br>\n",
        "- Design and train a model that predicts the strength and shape of interactions<br>\n",
        "between the nuclear spins from simulated time-dependent magnetization curves,<br>\n",
        "$M(t)$.\n",
        "\n",
        "Before getting to any code, we first review the structure of this machine<br> learning problem and introduce some of the details of the underlying physics we<br>\n",
        "are trying to capture.\n",
        "\n",
        "\n"
      ]
    },
    {
      "cell_type": "markdown",
      "metadata": {
        "id": "esMV0INGNEwu"
      },
      "source": [
        "# Further Theory For Those Interested"
      ]
    },
    {
      "cell_type": "markdown",
      "metadata": {
        "id": "MdQI7vD8eMk7"
      },
      "source": [
        "## Quick description of the ML problem\n",
        "\n",
        "### Goal:\n",
        "Predict three real numbers from an input vector of complex numbers.\n",
        "\n",
        "\n"
      ]
    },
    {
      "cell_type": "markdown",
      "metadata": {
        "id": "TchvASHYeMk7"
      },
      "source": [
        "## Introduction to NMR and spin echos"
      ]
    },
    {
      "cell_type": "markdown",
      "metadata": {
        "id": "3Q_fOfvYeMk8"
      },
      "source": [
        "Although the NMR \"spin echo\" technique may sound complicated, the following <br> animation created by Gavin W Morley (by way of <br>\n",
        "https://en.wikipedia.org/wiki/Spin_echo) makes it much clearer!\n",
        "\n",
        "\n",
        "![NMR Spin Echo Animation](https://upload.wikimedia.org/wikipedia/commons/9/9b/HahnEcho_GWM.gif)\n",
        "\n",
        "\n",
        "The red arrows in this animation represents the values of nuclear spins in the <br>\n",
        "material.\n",
        "\n",
        "They all begin in the same direction (up), and then an applied magnetic field<br>\n",
        "rotates them into the x-y plane (indicated by the 90$^\\circ$ pulse).<br>\n",
        "A constant external magnetic field in the z-direction did not affect the spins <br>\n",
        "when they were pointing \"up\", but now that they lie in the x-y plane they begin <br>\n",
        "to precess.\n",
        "\n",
        "\n",
        "Because each nuclear spin sits in a slightly different magnetic environment, <br>\n",
        "each one has a slightly different response to the background z-direction <br> magnetic field, causing some to precess in a clockwise direction and others in <br>\n",
        "a counterclockwise direction.\n",
        "\n",
        "\n",
        "After a fixed amount of time, $t$ in the above animation, a second magnetic <br>\n",
        "pulse is applied and rotates each spin 180$^\\circ$ in the x-y plane. <br>\n",
        "After this, the spins continue to move as they did before, but because of the <br>\n",
        "180$^\\circ$ pulse they are now effectively precessing  \"backwards\" compared to <br>\n",
        "the original motion!<br>\n",
        "So after an additional time $t$ passes, the variations in precession time is <br>\n",
        "canceled out, causing a refocusing of the spins.\n",
        "\n",
        "This shows up as a measurable \"echo\" in the average spin magnetization of the <br>\n",
        "material, and can be measured in experiments. <br>\n",
        "This is an important technique because the average spin magnetization is hard <br>\n",
        "to measure during an applied \"pulse\", but there is no external pulse during the <br>\n",
        "\"echo\", allowing for accurate measurement of the peak value and decay shape.\n",
        "\n",
        "Here is a typical curve for the time-dependent magnetization $M(t)$ for a <br> spin-echo in most materials:\n",
        "\n",
        "![standard_spinecho.png](https://raw.githubusercontent.com/UAPH451551/PH451_551_Sp24/main/Hackathons/Hackathon_03/standard_spinecho.png)\n",
        "\n",
        "Sometimes, a more complicated curve can occur, such as:\n",
        "\n",
        "![coupled_echo.png](https://raw.githubusercontent.com/UAPH451551/PH451_551_Sp24/main/Hackathons/Hackathon_03/coupled_echo.png)\n",
        "\n",
        "This more complicated structure has been caused by spin-spin interactions <br>\n",
        "between the precessing nuclear spins. Normally, each spin precesses in a<br> uniform way irrespective of the rest of the nuclei in the material. In this <br>\n",
        "coupled case, however, the nuclear magnetization that occurs near the \"echo\" <br>\n",
        "influences the spins' motions, modifying the shape of the observed echo."
      ]
    },
    {
      "cell_type": "markdown",
      "metadata": {
        "id": "tkGF2ySheMk8"
      },
      "source": [
        "## Electronic and nuclear spins\n",
        "\n",
        "Most materials can be classified by their electronic properties into three <br> categories: metal, insulator, and semiconductor. <br>\n",
        "These terms are based on a semi-classical description of the electrons in a <br>\n",
        "crystal.<br>\n",
        "The electrons are treated as a collection of classical particles, with energies <br>\n",
        "that depend on their momentum in a way determined by the atomic structure of <br> the crystal.\n",
        "\n",
        "However, there are other electronic phases of matter that are truly \"quantum\" <br>\n",
        "and cannot be described accurately with a classical analogy. <Br>\n",
        "In these scenarios, complicated structures in the electron states can give rise <br>\n",
        "to large electronic spin density or strong electron-electron coupling. <br>\n",
        "Because of these strong couplings between electrons, they are often hard to <br>\n",
        "probe experimentally.\n",
        "\n",
        "Luckily, electrons can interact with the nuclear spins of a material (by way of <br> the hyperfine-interaction).<br>\n",
        "If the electron-nuclear coupling becomes strong enough, then a non-neglible <br>\n",
        "two-step process can couple the nuclei with each other throughout the material. <br>\n",
        "That two-step process is when a nuclear spin couples to an electron and changes <br>\n",
        "its motion, and then that electron later \"scatters\" off another nuclear spin <br>\n",
        "elsewhere in the material.\n",
        "\n",
        "We represent this two-step scattering process by way of an effective spin-spin <br>\n",
        "coupling between a nuclei at position $r_j$ and $r_i$. **There are two datasets,** <br>\n",
        "**\"gauss\" and \"RKKY\", and thus you will have to generate TWO models and hand in** <br> **two models.**\n",
        "\n",
        "\n",
        "The first is a simple gaussian function (\"gauss\"):\n",
        "\n",
        "$T_1(i,j) = \\alpha \\exp{\\left[ \\left(\\frac{-|r_j - r_i|}{\\xi} \\right)^{2} \\right]}$\n",
        "\n",
        "And the second is the traditional Ruderman–Kittel–Kasuya–Yosida function <br> (\"RKKY\"):\n",
        "\n",
        "$T_2(i,j) = \\alpha x^{-4} \\left( x \\cos{x} - \\sin{x} \\right)$\n",
        "\n",
        "with $x = 2 \\frac{|r_j - r_i|}{\\xi}$\n",
        "\n",
        "\n",
        "For both function, $\\alpha$ is the coupling strength and $\\xi$ is the coupling length.\n",
        "\n",
        "Generally, $\\alpha$ and $\\xi$ will depend on the details of the nuclear-electron <br>\n",
        "coupling and the quantum state of the electrons, but here we will sample them <br>\n",
        "randomly to see if the spin-echo experiment can provide enough information to <br>\n",
        "accurately \"reverse engineer\" these values from a single $M(t)$ curve.\n",
        "\n",
        "Our simulations also include dissipation of the nuclear spins: due to couplings <br>\n",
        "with the environment the spin information can be \"lost\". <Br>\n",
        "This occurs at a time scale $T_\\textrm{decay} \\simeq \\Gamma^{-1/2}$, with $\\Gamma$ given by:\n",
        "\n",
        "$\\Gamma = 10^{-d}$\n",
        "\n",
        "Our goal is to develop two models, one for each function, that accurately <br> determine the above variables ($\\alpha$, $\\xi$, and $d$) from a single $M(t)$ curve. <br>\n",
        "Note that RKKY is a harder problem."
      ]
    },
    {
      "cell_type": "markdown",
      "metadata": {
        "id": "YyS96OqFeMk9"
      },
      "source": [
        "## Load and view the simulated data\n",
        "\n",
        "Three datafiles will be used for the training of both models. Each file has <br>\n",
        "6000 lines, representing 6000 simulated $M(t)$ curves for different choices of <br>\n",
        "the three material parameters:\n",
        "\n",
        "- \\<model name\\>_echos_model_r.txt  : Real part of the time-dependent <br> magnetization, $\\textrm{Re}(M(t))$.\n",
        "- \\<model name\\>_echos_model_i.txt  : Imaginary part of the time-dependent <br> magnetization, $\\textrm{Im}(M(t))$.\n",
        "- \\<model name\\>_mat_info_model.txt : The three material parameters <br> ($\\alpha$,$\\xi$,$d$) introduced above.\n",
        "\n",
        "Where \\<model name\\> is either \"gauss\" or \"RKKY\".\n",
        "\n",
        "We also load two other echo files, which give an additional 6000 $M(t)$ curves. <br>\n",
        "These will be used to judge the quality of the final models:\n",
        "\n",
        "- \\<model name\\>_echos_eval_r.txt\n",
        "- \\<model name\\>_echos_eval_i.txt"
      ]
    },
    {
      "cell_type": "code",
      "execution_count": null,
      "metadata": {
        "colab": {
          "base_uri": "https://localhost:8080/"
        },
        "id": "Mm3qvRtKeMk-",
        "outputId": "1f0163ad-4894-4a7d-be99-0a956afb3c00"
      },
      "outputs": [
        {
          "output_type": "stream",
          "name": "stdout",
          "text": [
            "Downloading files off google drive...\n",
            "Done with file downloads\n"
          ]
        }
      ],
      "source": [
        "import numpy as np\n",
        "import matplotlib.pyplot as plt\n",
        "import requests\n",
        "import torch\n",
        "from torch import nn\n",
        "from torch.utils.data import DataLoader, Dataset\n",
        "\n",
        "print(\"Downloading files off google drive...\")\n",
        "\n",
        "f_prefix = \"gauss\"\n",
        "\n",
        "# data for model creation\n",
        "gauss_train_y = f_prefix+\"_mat_info_model.txt\"\n",
        "gauss_train_X_real = f_prefix+\"_echos_model_r.txt\" # real part of echos\n",
        "gauss_train_X_imaginary = f_prefix+\"_echos_model_i.txt\" # imaginary part of echos\n",
        "\n",
        "asdf = \"https://drive.google.com/uc?export=download&id=\"\n",
        "\n",
        "r = requests.get(\"https://drive.google.com/uc?export=download&id=1J8CcJVQRpzSwue1vuHV9uB0bngdDrKCY\",allow_redirects=True)\n",
        "open(gauss_train_y, \"wb\").write(r.content)\n",
        "r = requests.get(\"https://drive.google.com/uc?export=download&id=1lBWcwF--1rrB8KCyCd0-5ZnPIjRrWkHg\",allow_redirects=True)\n",
        "open(gauss_train_X_real, \"wb\").write(r.content)\n",
        "r = requests.get(\"https://drive.google.com/uc?export=download&id=1O7KKL-SW3vHePoRNk8YfLzX82wf2Z5ul\",allow_redirects=True)\n",
        "open(gauss_train_X_imaginary, \"wb\").write(r.content)\n",
        "\n",
        "# data for testing final model\n",
        "gauss_test_X_real = f_prefix+\"_echos_eval_r.txt\" # real part of echos\n",
        "gauss_test_X_imaginary = f_prefix+\"_echos_eval_i.txt\" # imaginary part of echos\n",
        "\n",
        "r = requests.get(\"https://drive.google.com/uc?export=download&id=1prIrtO7XJs3PBe1MZiWUxK3VUkrChVvz\",allow_redirects=True)\n",
        "open(gauss_test_X_real, \"wb\").write(r.content)\n",
        "r = requests.get(\"https://drive.google.com/uc?export=download&id=1vbKcuxe6z8cRGQdTqj_Q2u5Oow0D9hbU\",allow_redirects=True)\n",
        "open(gauss_test_X_imaginary, \"wb\").write(r.content)\n",
        "\n",
        "# now repeat, but for RKKY type function\n",
        "\n",
        "f_prefix = \"RKKY\"\n",
        "\n",
        "# data for model training\n",
        "rrky_train_y = f_prefix+\"_mat_info_model.txt\"\n",
        "rrky_train_X_real = f_prefix+\"_echos_model_r.txt\" # real part of echos\n",
        "rrky_train_X_imaginary = f_prefix+\"_echos_model_i.txt\" # imaginary part of echos\n",
        "r = requests.get(\"https://docs.google.com/uc?export=download&id=1lS9AJ3sUFI4cfM5jQj618x4shoaJMXVo\",allow_redirects=True)\n",
        "open(rrky_train_y, \"wb\").write(r.content)\n",
        "r = requests.get(\"https://docs.google.com/uc?export=download&id=1J21bKy8FTjoaGzHVdLXlWAao2UiWO7ml\",allow_redirects=True)\n",
        "open(rrky_train_X_real, \"wb\").write(r.content)\n",
        "r = requests.get(\"https://docs.google.com/uc?export=download&id=1nf3Y_FcJJEWXJbjwREAkgcnVz2tDA__I\",allow_redirects=True)\n",
        "open(rrky_train_X_imaginary, \"wb\").write(r.content)\n",
        "\n",
        "# data for testing final model\n",
        "rrky_test_X_real = f_prefix+\"_echos_eval_r.txt\" # real part of echos\n",
        "rrky_test_X_imaginary = f_prefix+\"_echos_eval_i.txt\" # imaginary part of echos\n",
        "\n",
        "r = requests.get(\"https://docs.google.com/uc?export=download&id=1Q46o_RnYZFWEjMVVF5m1VBI9HCltspyY\",allow_redirects=True)\n",
        "open(rrky_test_X_real, \"wb\").write(r.content)\n",
        "r = requests.get(\"https://docs.google.com/uc?export=download&id=1-z2ADFrBlEhXN5Z_LHiRLA4Nds_9uvQq\",allow_redirects=True)\n",
        "open(rrky_test_X_imaginary, \"wb\").write(r.content)\n",
        "\n",
        "\n",
        "print(\"Done with file downloads\")"
      ]
    },
    {
      "cell_type": "code",
      "execution_count": null,
      "metadata": {
        "id": "xogFKL42TUwJ"
      },
      "outputs": [],
      "source": [
        "gauss_train_X_real = np.loadtxt(gauss_train_X_real, comments=\"#\", delimiter=None, unpack=False)\n",
        "gauss_train_X_imaginary = np.loadtxt(gauss_train_X_imaginary, comments=\"#\", delimiter=None, unpack=False)\n",
        "gauss_train_y = np.loadtxt(gauss_train_y, comments=\"#\", delimiter=None, unpack=False)\n",
        "\n",
        "gauss_test_X_real = np.loadtxt(gauss_test_X_real, comments=\"#\", delimiter=None, unpack=False)\n",
        "gauss_test_X_imaginary = np.loadtxt(gauss_test_X_imaginary, comments=\"#\", delimiter=None, unpack=False)\n",
        "\n",
        "rkky_train_X_real = np.loadtxt(rrky_train_X_real, comments=\"#\", delimiter=None, unpack=False)\n",
        "rkky_train_X_imaginary = np.loadtxt(rrky_train_X_imaginary, comments=\"#\", delimiter=None, unpack=False)\n",
        "rkky_train_y = np.loadtxt(rrky_train_y, comments=\"#\", delimiter=None, unpack=False)\n",
        "\n",
        "rkky_test_X_real = np.loadtxt(rrky_test_X_real, comments=\"#\", delimiter=None, unpack=False)\n",
        "rkky_test_X_imaginary = np.loadtxt(rrky_test_X_imaginary, comments=\"#\", delimiter=None, unpack=False)"
      ]
    },
    {
      "cell_type": "markdown",
      "metadata": {
        "id": "8HLRFN3Zf3NR"
      },
      "source": [
        "## Saving time by reducing scope of time series based on physics.\n",
        "\n",
        "The full time series contain a lot of information that might not actually be <br>\n",
        "useful. Here the key region of interest is around 200-400 so you could cut <br>\n",
        "down the length of the time series to that window. It may slightly worsen <br>\n",
        "final model performance but can save a ton of time.<br>\n",
        "e.g. `gauss_train_X_imaginary = gauss_train_X_imaginary[:,200:400]`"
      ]
    },
    {
      "cell_type": "code",
      "execution_count": null,
      "metadata": {
        "colab": {
          "base_uri": "https://localhost:8080/",
          "height": 222
        },
        "id": "CYo0ZFV0dD49",
        "outputId": "ce082b3f-3d40-4411-d6c1-25e592d818d4"
      },
      "outputs": [
        {
          "output_type": "error",
          "ename": "NameError",
          "evalue": "name 'plt' is not defined",
          "traceback": [
            "\u001b[0;31m---------------------------------------------------------------------------\u001b[0m",
            "\u001b[0;31mNameError\u001b[0m                                 Traceback (most recent call last)",
            "\u001b[0;32m<ipython-input-1-51dfc987dd56>\u001b[0m in \u001b[0;36m<cell line: 1>\u001b[0;34m()\u001b[0m\n\u001b[0;32m----> 1\u001b[0;31m \u001b[0mplt\u001b[0m\u001b[0;34m.\u001b[0m\u001b[0mplot\u001b[0m\u001b[0;34m(\u001b[0m\u001b[0;34m(\u001b[0m\u001b[0mgauss_train_X_imaginary\u001b[0m\u001b[0;34m[\u001b[0m\u001b[0;36m1\u001b[0m\u001b[0;34m:\u001b[0m\u001b[0;36m500\u001b[0m\u001b[0;34m,\u001b[0m\u001b[0;34m:\u001b[0m\u001b[0;34m]\u001b[0m\u001b[0;34m)\u001b[0m\u001b[0;34m.\u001b[0m\u001b[0mT\u001b[0m\u001b[0;34m,\u001b[0m\u001b[0mcolor\u001b[0m\u001b[0;34m=\u001b[0m\u001b[0;34m'orange'\u001b[0m\u001b[0;34m,\u001b[0m \u001b[0malpha\u001b[0m\u001b[0;34m=\u001b[0m\u001b[0;36m0.05\u001b[0m\u001b[0;34m)\u001b[0m\u001b[0;34m\u001b[0m\u001b[0;34m\u001b[0m\u001b[0m\n\u001b[0m\u001b[1;32m      2\u001b[0m \u001b[0mplt\u001b[0m\u001b[0;34m.\u001b[0m\u001b[0mplot\u001b[0m\u001b[0;34m(\u001b[0m\u001b[0;34m(\u001b[0m\u001b[0mgauss_train_X_real\u001b[0m\u001b[0;34m[\u001b[0m\u001b[0;36m1\u001b[0m\u001b[0;34m:\u001b[0m\u001b[0;36m500\u001b[0m\u001b[0;34m,\u001b[0m\u001b[0;34m:\u001b[0m\u001b[0;34m]\u001b[0m\u001b[0;34m)\u001b[0m\u001b[0;34m.\u001b[0m\u001b[0mT\u001b[0m\u001b[0;34m,\u001b[0m\u001b[0mcolor\u001b[0m\u001b[0;34m=\u001b[0m\u001b[0;34m'blue'\u001b[0m\u001b[0;34m,\u001b[0m \u001b[0malpha\u001b[0m\u001b[0;34m=\u001b[0m\u001b[0;36m0.05\u001b[0m\u001b[0;34m)\u001b[0m\u001b[0;34m\u001b[0m\u001b[0;34m\u001b[0m\u001b[0m\n\u001b[1;32m      3\u001b[0m \u001b[0mplt\u001b[0m\u001b[0;34m.\u001b[0m\u001b[0mxlabel\u001b[0m\u001b[0;34m(\u001b[0m\u001b[0;34m\"$t$\"\u001b[0m\u001b[0;34m)\u001b[0m\u001b[0;34m\u001b[0m\u001b[0;34m\u001b[0m\u001b[0m\n\u001b[1;32m      4\u001b[0m \u001b[0mplt\u001b[0m\u001b[0;34m.\u001b[0m\u001b[0mylabel\u001b[0m\u001b[0;34m(\u001b[0m\u001b[0;34m\"$M$\"\u001b[0m\u001b[0;34m)\u001b[0m\u001b[0;34m\u001b[0m\u001b[0;34m\u001b[0m\u001b[0m\n\u001b[1;32m      5\u001b[0m \u001b[0mplt\u001b[0m\u001b[0;34m.\u001b[0m\u001b[0mlegend\u001b[0m\u001b[0;34m(\u001b[0m\u001b[0;34m)\u001b[0m\u001b[0;34m\u001b[0m\u001b[0;34m\u001b[0m\u001b[0m\n",
            "\u001b[0;31mNameError\u001b[0m: name 'plt' is not defined"
          ]
        }
      ],
      "source": [
        "plt.plot((gauss_train_X_imaginary[1:500,:]).T,color='orange', alpha=0.05)\n",
        "plt.plot((gauss_train_X_real[1:500,:]).T,color='blue', alpha=0.05)\n",
        "plt.xlabel(\"$t$\")\n",
        "plt.ylabel(\"$M$\")\n",
        "plt.legend()\n",
        "plt.title(\"Training set with a full time axis\")\n",
        "plt.show()"
      ]
    },
    {
      "cell_type": "code",
      "execution_count": null,
      "metadata": {
        "id": "92Qjtn9oSgeY"
      },
      "outputs": [],
      "source": [
        "# rescale data\n",
        "from sklearn.preprocessing import StandardScaler\n",
        "gauss_X_sc_real = StandardScaler()\n",
        "gauss_train_X_real = gauss_X_sc_real.fit_transform(gauss_train_X_real)\n",
        "gauss_test_X_real = gauss_X_sc_real.transform(gauss_test_X_real)\n",
        "gauss_X_sc_imaginary = StandardScaler()\n",
        "gauss_train_X_imaginary = gauss_X_sc_imaginary.fit_transform(gauss_train_X_imaginary)\n",
        "gauss_test_X_real = gauss_X_sc_imaginary.transform(gauss_test_X_imaginary)\n",
        "gauss_y_sc = StandardScaler()\n",
        "gauss_train_y = gauss_y_sc.fit_transform(gauss_train_y)\n",
        "\n",
        "rkky_X_sc_real = StandardScaler()\n",
        "rkky_train_X_real = rkky_X_sc_real.fit_transform(rkky_train_X_real)\n",
        "rkky_test_X_real = rkky_X_sc_real.transform(rkky_test_X_real)\n",
        "rkky_X_sc_imaginary = StandardScaler()\n",
        "rkky_train_X_imaginary = rkky_X_sc_imaginary.fit_transform(rkky_train_X_imaginary)\n",
        "rkky_test_X_real = rkky_X_sc_imaginary.transform(rkky_test_X_imaginary)\n",
        "rkky_y_sc = StandardScaler()\n",
        "rkky_train_y = rkky_y_sc.fit_transform(rkky_train_y)\n",
        "\n",
        "# partition data into a training and testing set using a random partition\n",
        "from sklearn.model_selection import train_test_split\n",
        "gauss_train_X_real, gauss_valid_X_real = train_test_split(gauss_train_X_real, test_size=0.1, random_state=42)\n",
        "gauss_train_X_imaginary, gauss_valid_X_imaginary = train_test_split(gauss_train_X_imaginary, test_size=0.1, random_state=42)\n",
        "gauss_train_y, gauss_valid_y = train_test_split(gauss_train_y, test_size=0.1, random_state=42)\n",
        "rkky_train_X_real, rkky_valid_X_real = train_test_split(rkky_train_X_real, test_size=0.1, random_state=42)\n",
        "rkky_train_X_imaginary, rkky_valid_X_imaginary = train_test_split(rkky_train_X_imaginary, test_size=0.1, random_state=42)\n",
        "rkky_train_y, rkky_valid_y = train_test_split(rkky_train_y, test_size=0.1, random_state=42)"
      ]
    },
    {
      "cell_type": "code",
      "execution_count": null,
      "metadata": {
        "id": "kaMH0Ag-l-bw",
        "colab": {
          "base_uri": "https://localhost:8080/"
        },
        "outputId": "e53857a4-8f3d-4089-d8fd-a89a2b2fe53f"
      },
      "outputs": [
        {
          "output_type": "execute_result",
          "data": {
            "text/plain": [
              "(5400, 200)"
            ]
          },
          "metadata": {},
          "execution_count": 4
        }
      ],
      "source": [
        "gauss_train_X_real.shape"
      ]
    },
    {
      "cell_type": "code",
      "execution_count": null,
      "metadata": {
        "id": "PudOUbQWQo5w"
      },
      "outputs": [],
      "source": [
        "class TwoChannelTimeSeries(Dataset):\n",
        "    def __init__(self, X, y=None):\n",
        "        self.X = np.stack(X, axis=2)\n",
        "        self.X = torch.from_numpy(self.X.copy()).float()\n",
        "        if y is not None:\n",
        "            self.y = torch.from_numpy(y.copy()).float()\n",
        "    def __len__(self):\n",
        "        return len(self.X)\n",
        "    def __getitem__(self, idx):\n",
        "        if self.y is None:\n",
        "            return self.X[idx]\n",
        "        return self.X[idx], self.y[idx]\n",
        "\n",
        "batch_size = 128\n",
        "\n",
        "train_data = TwoChannelTimeSeries([gauss_train_X_real, gauss_train_X_imaginary], gauss_train_y)\n",
        "valid_data = TwoChannelTimeSeries([gauss_valid_X_real, gauss_valid_X_imaginary], gauss_valid_y)\n",
        "test_data = TwoChannelTimeSeries([gauss_test_X_real, gauss_test_X_imaginary], None)\n",
        "\n",
        "gauss_train_loader = DataLoader(train_data, batch_size=batch_size, shuffle=True)\n",
        "gauss_valid_loader = DataLoader(valid_data, batch_size=batch_size, shuffle=False)\n",
        "gauss_test_loader = DataLoader(test_data, batch_size=32, shuffle=False)\n",
        "\n",
        "train_data = TwoChannelTimeSeries([rkky_train_X_real, rkky_train_X_imaginary], rkky_train_y)\n",
        "valid_data = TwoChannelTimeSeries([rkky_valid_X_real, rkky_valid_X_imaginary], rkky_valid_y)\n",
        "test_data = TwoChannelTimeSeries([rkky_test_X_real, rkky_test_X_imaginary], None)\n",
        "\n",
        "rkky_train_loader = DataLoader(train_data, batch_size=batch_size, shuffle=True)\n",
        "rkky_valid_loader = DataLoader(valid_data, batch_size=batch_size, shuffle=False)\n",
        "rkky_test_loader = DataLoader(test_data, batch_size=32, shuffle=False)"
      ]
    },
    {
      "cell_type": "code",
      "execution_count": null,
      "metadata": {
        "id": "Bze1XMHiXeKI"
      },
      "outputs": [],
      "source": [
        "def train_and_validate(train_loader, val_loader, model, optimizer, criterion, num_epochs, metric=None, scheduler=None, device='cpu'):\n",
        "    history = {\n",
        "        'epoch': [],\n",
        "        'train_loss': [],\n",
        "        'train_metric': [],\n",
        "        'val_loss': [],\n",
        "        'val_metric': [],\n",
        "        'learning_rate': []\n",
        "    }  # Initialize a dictionary to store epoch-wise results\n",
        "\n",
        "    model.to(device)  # Move the model to the specified device\n",
        "\n",
        "    for epoch in range(num_epochs):\n",
        "        model.train()  # Set the model to training mode\n",
        "        epoch_loss = 0.0  # Initialize the epoch loss and metric values\n",
        "        epoch_metric = 0.0\n",
        "\n",
        "        # Training loop\n",
        "        for X, y in train_loader:\n",
        "            X = X.to(device)\n",
        "            y = y.to(device)\n",
        "            y = y\n",
        "            optimizer.zero_grad()  # Clear existing gradients\n",
        "            outputs = model(X)  # Make predictions\n",
        "            loss = criterion(outputs, y)  # Compute the loss\n",
        "            loss.backward()  # Compute gradients\n",
        "            optimizer.step()  # Update model parameters\n",
        "\n",
        "            epoch_loss += loss.item()\n",
        "\n",
        "            # THESE LINES HAVE BEEN UPDATED TO ACCOUNT FOR DEFAULT ARGUMENTS\n",
        "            if metric is not None:\n",
        "                epoch_metric += metric(outputs, y)\n",
        "            else:\n",
        "                epoch_metric += 0.0\n",
        "\n",
        "        # Average training loss and metric\n",
        "        epoch_loss /= len(train_loader)\n",
        "        epoch_metric /= len(train_loader)\n",
        "\n",
        "        # Validation loop\n",
        "        model.eval()  # Set the model to evaluation mode\n",
        "        with torch.no_grad():  # Disable gradient calculation\n",
        "            val_loss = 0.0\n",
        "            val_metric = 0.0\n",
        "            for X_val, y_val in val_loader:\n",
        "                X_val = X_val.to(device)\n",
        "                y_val = y_val.to(device)\n",
        "                y_val = y_val\n",
        "                outputs_val = model(X_val)  # Make predictions\n",
        "                val_loss += criterion(outputs_val, y_val).item()  # Compute loss\n",
        "                if metric is not None:\n",
        "                    val_metric += metric(outputs_val, y_val)\n",
        "                else:\n",
        "                    val_metric += 0.0\n",
        "\n",
        "            val_loss /= len(val_loader)\n",
        "            val_metric /= len(val_loader)\n",
        "\n",
        "        # Append epoch results to history\n",
        "        history['epoch'].append(epoch)\n",
        "        history['train_loss'].append(epoch_loss)\n",
        "        history['train_metric'].append(epoch_metric)\n",
        "        history['val_loss'].append(val_loss)\n",
        "        history['val_metric'].append(val_metric)\n",
        "        history['learning_rate'].append(optimizer.param_groups[0]['lr'])\n",
        "\n",
        "        print(f'Epoch [{epoch+1}/{num_epochs}], Train Loss: {epoch_loss:.4f}, '\n",
        "              f'Train Metric: {epoch_metric:.4f}, Val Loss: {val_loss:.4f}, '\n",
        "              f'Val Metric: {val_metric:.4f}')\n",
        "\n",
        "        if scheduler is not None:\n",
        "            scheduler.step()\n",
        "\n",
        "    return history, model\n",
        "\n",
        "\n",
        "def test_model(model, data_loader, criterion, metric=None, device='cpu'):\n",
        "    model.to(device)  # Move the model to the specified device\n",
        "\n",
        "    model.eval()  # Set the model to evaluation mode\n",
        "\n",
        "    total_loss = 0.0  # Initialize the total loss and metric values\n",
        "    total_metric = 0.0\n",
        "\n",
        "\n",
        "    with torch.no_grad():  # Disable gradient tracking\n",
        "        for batch in data_loader:\n",
        "            X, y = batch\n",
        "            X = X.to(device)\n",
        "            y = y.to(device)\n",
        "            # Pass the data to the model and make predictions\n",
        "            outputs = model(X)\n",
        "\n",
        "            # Compute the loss\n",
        "            loss = criterion(outputs, y)\n",
        "\n",
        "            # Add the loss and metric for the batch to the total values\n",
        "            total_loss += loss.item()\n",
        "\n",
        "            if metric is not None:\n",
        "                total_metric += metric(outputs, y)\n",
        "            else:\n",
        "                total_metric += 0.0\n",
        "\n",
        "    # Average loss and metric for the entire dataset\n",
        "    avg_loss = total_loss / len(data_loader)\n",
        "    avg_metric = total_metric / len(data_loader)\n",
        "\n",
        "    print(f'Test Loss: {avg_loss:.4f}, Test Metric: {avg_metric:.4f}')\n",
        "\n",
        "    return avg_loss, avg_metric"
      ]
    },
    {
      "cell_type": "code",
      "execution_count": null,
      "metadata": {
        "id": "bb9p8ytmXhuW"
      },
      "outputs": [],
      "source": [
        "device = torch.device(\"cuda\" if torch.cuda.is_available() else \"cpu\")"
      ]
    },
    {
      "cell_type": "markdown",
      "metadata": {
        "id": "RliStr5CeMlC"
      },
      "source": [
        "## A simple neural net (NN)\n",
        "- Our input nodes are the vector $[\\textrm{Re}(M(t)), \\textrm{Im}(M(t))]$, which is a few hundred elements.\n",
        "- Our output nodes are the three material parameters.\n",
        "- We will use a standard NN predict the material properties from $M(t)$.\n"
      ]
    },
    {
      "cell_type": "code",
      "execution_count": null,
      "metadata": {
        "id": "nFdUzF8yeMlC",
        "colab": {
          "base_uri": "https://localhost:8080/"
        },
        "outputId": "fd5969b1-8583-445f-f2ed-9c57918662c3"
      },
      "outputs": [
        {
          "output_type": "execute_result",
          "data": {
            "text/plain": [
              "Sequential(\n",
              "  (0): Flatten(start_dim=1, end_dim=-1)\n",
              "  (1): Linear(in_features=400, out_features=100, bias=True)\n",
              "  (2): ReLU()\n",
              "  (3): Linear(in_features=100, out_features=40, bias=True)\n",
              "  (4): ReLU()\n",
              "  (5): Linear(in_features=40, out_features=3, bias=True)\n",
              ")"
            ]
          },
          "metadata": {},
          "execution_count": 7
        }
      ],
      "source": [
        "# first we build the model\n",
        "\n",
        "N = np.shape(next(iter(gauss_train_loader))[0])[1] # number of input values from M(t) curve\n",
        "\n",
        "# define the net\n",
        "simplenn = nn.Sequential()\n",
        "# Let's try N -> 100 -> 40 -> 3, e.g. 2 hidden layers\n",
        "simplenn.append(nn.Flatten())\n",
        "simplenn.append(nn.Linear(N*2, 100))\n",
        "simplenn.append(nn.ReLU())\n",
        "simplenn.append(nn.Linear(100, 40))\n",
        "simplenn.append(nn.ReLU())\n",
        "simplenn.append(nn.Linear(40, 3))"
      ]
    },
    {
      "cell_type": "code",
      "execution_count": null,
      "metadata": {
        "id": "csDDTh1TeMlC",
        "colab": {
          "base_uri": "https://localhost:8080/"
        },
        "outputId": "ca807ab2-3cb0-4607-d977-4c53dbbfeb3e"
      },
      "outputs": [
        {
          "output_type": "stream",
          "name": "stdout",
          "text": [
            "Epoch [1/200], Train Loss: 0.9217, Train Metric: 0.0000, Val Loss: 1.2331, Val Metric: 0.0000\n",
            "Epoch [2/200], Train Loss: 0.8550, Train Metric: 0.0000, Val Loss: 1.1363, Val Metric: 0.0000\n",
            "Epoch [3/200], Train Loss: 0.7798, Train Metric: 0.0000, Val Loss: 1.0511, Val Metric: 0.0000\n",
            "Epoch [4/200], Train Loss: 0.7208, Train Metric: 0.0000, Val Loss: 0.9724, Val Metric: 0.0000\n",
            "Epoch [5/200], Train Loss: 0.6670, Train Metric: 0.0000, Val Loss: 0.9057, Val Metric: 0.0000\n",
            "Epoch [6/200], Train Loss: 0.6152, Train Metric: 0.0000, Val Loss: 0.8452, Val Metric: 0.0000\n",
            "Epoch [7/200], Train Loss: 0.5833, Train Metric: 0.0000, Val Loss: 0.8131, Val Metric: 0.0000\n",
            "Epoch [8/200], Train Loss: 0.5649, Train Metric: 0.0000, Val Loss: 0.7848, Val Metric: 0.0000\n",
            "Epoch [9/200], Train Loss: 0.5581, Train Metric: 0.0000, Val Loss: 0.7655, Val Metric: 0.0000\n",
            "Epoch [10/200], Train Loss: 0.5374, Train Metric: 0.0000, Val Loss: 0.7537, Val Metric: 0.0000\n",
            "Epoch [11/200], Train Loss: 0.5363, Train Metric: 0.0000, Val Loss: 0.7402, Val Metric: 0.0000\n",
            "Epoch [12/200], Train Loss: 0.5225, Train Metric: 0.0000, Val Loss: 0.7279, Val Metric: 0.0000\n",
            "Epoch [13/200], Train Loss: 0.5213, Train Metric: 0.0000, Val Loss: 0.7242, Val Metric: 0.0000\n",
            "Epoch [14/200], Train Loss: 0.5142, Train Metric: 0.0000, Val Loss: 0.7130, Val Metric: 0.0000\n",
            "Epoch [15/200], Train Loss: 0.5098, Train Metric: 0.0000, Val Loss: 0.7050, Val Metric: 0.0000\n",
            "Epoch [16/200], Train Loss: 0.5111, Train Metric: 0.0000, Val Loss: 0.7037, Val Metric: 0.0000\n",
            "Epoch [17/200], Train Loss: 0.5052, Train Metric: 0.0000, Val Loss: 0.6969, Val Metric: 0.0000\n",
            "Epoch [18/200], Train Loss: 0.5072, Train Metric: 0.0000, Val Loss: 0.6944, Val Metric: 0.0000\n",
            "Epoch [19/200], Train Loss: 0.4999, Train Metric: 0.0000, Val Loss: 0.6846, Val Metric: 0.0000\n",
            "Epoch [20/200], Train Loss: 0.4981, Train Metric: 0.0000, Val Loss: 0.6827, Val Metric: 0.0000\n",
            "Epoch [21/200], Train Loss: 0.4908, Train Metric: 0.0000, Val Loss: 0.6793, Val Metric: 0.0000\n",
            "Epoch [22/200], Train Loss: 0.4890, Train Metric: 0.0000, Val Loss: 0.6764, Val Metric: 0.0000\n",
            "Epoch [23/200], Train Loss: 0.4855, Train Metric: 0.0000, Val Loss: 0.6693, Val Metric: 0.0000\n",
            "Epoch [24/200], Train Loss: 0.4842, Train Metric: 0.0000, Val Loss: 0.6645, Val Metric: 0.0000\n",
            "Epoch [25/200], Train Loss: 0.4891, Train Metric: 0.0000, Val Loss: 0.6682, Val Metric: 0.0000\n",
            "Epoch [26/200], Train Loss: 0.4789, Train Metric: 0.0000, Val Loss: 0.6574, Val Metric: 0.0000\n",
            "Epoch [27/200], Train Loss: 0.4817, Train Metric: 0.0000, Val Loss: 0.6537, Val Metric: 0.0000\n",
            "Epoch [28/200], Train Loss: 0.4778, Train Metric: 0.0000, Val Loss: 0.6488, Val Metric: 0.0000\n",
            "Epoch [29/200], Train Loss: 0.4679, Train Metric: 0.0000, Val Loss: 0.6496, Val Metric: 0.0000\n",
            "Epoch [30/200], Train Loss: 0.4671, Train Metric: 0.0000, Val Loss: 0.6443, Val Metric: 0.0000\n",
            "Epoch [31/200], Train Loss: 0.4641, Train Metric: 0.0000, Val Loss: 0.6427, Val Metric: 0.0000\n",
            "Epoch [32/200], Train Loss: 0.4589, Train Metric: 0.0000, Val Loss: 0.6417, Val Metric: 0.0000\n",
            "Epoch [33/200], Train Loss: 0.4600, Train Metric: 0.0000, Val Loss: 0.6402, Val Metric: 0.0000\n",
            "Epoch [34/200], Train Loss: 0.4551, Train Metric: 0.0000, Val Loss: 0.6351, Val Metric: 0.0000\n",
            "Epoch [35/200], Train Loss: 0.4516, Train Metric: 0.0000, Val Loss: 0.6312, Val Metric: 0.0000\n",
            "Epoch [36/200], Train Loss: 0.4484, Train Metric: 0.0000, Val Loss: 0.6246, Val Metric: 0.0000\n",
            "Epoch [37/200], Train Loss: 0.4474, Train Metric: 0.0000, Val Loss: 0.6259, Val Metric: 0.0000\n",
            "Epoch [38/200], Train Loss: 0.4448, Train Metric: 0.0000, Val Loss: 0.6204, Val Metric: 0.0000\n",
            "Epoch [39/200], Train Loss: 0.4403, Train Metric: 0.0000, Val Loss: 0.6189, Val Metric: 0.0000\n",
            "Epoch [40/200], Train Loss: 0.4359, Train Metric: 0.0000, Val Loss: 0.6113, Val Metric: 0.0000\n",
            "Epoch [41/200], Train Loss: 0.4308, Train Metric: 0.0000, Val Loss: 0.6043, Val Metric: 0.0000\n",
            "Epoch [42/200], Train Loss: 0.4263, Train Metric: 0.0000, Val Loss: 0.6050, Val Metric: 0.0000\n",
            "Epoch [43/200], Train Loss: 0.4244, Train Metric: 0.0000, Val Loss: 0.5963, Val Metric: 0.0000\n",
            "Epoch [44/200], Train Loss: 0.4234, Train Metric: 0.0000, Val Loss: 0.5924, Val Metric: 0.0000\n",
            "Epoch [45/200], Train Loss: 0.4158, Train Metric: 0.0000, Val Loss: 0.5959, Val Metric: 0.0000\n",
            "Epoch [46/200], Train Loss: 0.4102, Train Metric: 0.0000, Val Loss: 0.5840, Val Metric: 0.0000\n",
            "Epoch [47/200], Train Loss: 0.4097, Train Metric: 0.0000, Val Loss: 0.5841, Val Metric: 0.0000\n",
            "Epoch [48/200], Train Loss: 0.4042, Train Metric: 0.0000, Val Loss: 0.5839, Val Metric: 0.0000\n",
            "Epoch [49/200], Train Loss: 0.4075, Train Metric: 0.0000, Val Loss: 0.5818, Val Metric: 0.0000\n",
            "Epoch [50/200], Train Loss: 0.4042, Train Metric: 0.0000, Val Loss: 0.5642, Val Metric: 0.0000\n",
            "Epoch [51/200], Train Loss: 0.3964, Train Metric: 0.0000, Val Loss: 0.5716, Val Metric: 0.0000\n",
            "Epoch [52/200], Train Loss: 0.3909, Train Metric: 0.0000, Val Loss: 0.5592, Val Metric: 0.0000\n",
            "Epoch [53/200], Train Loss: 0.3831, Train Metric: 0.0000, Val Loss: 0.5574, Val Metric: 0.0000\n",
            "Epoch [54/200], Train Loss: 0.3810, Train Metric: 0.0000, Val Loss: 0.5591, Val Metric: 0.0000\n",
            "Epoch [55/200], Train Loss: 0.3757, Train Metric: 0.0000, Val Loss: 0.5571, Val Metric: 0.0000\n",
            "Epoch [56/200], Train Loss: 0.3730, Train Metric: 0.0000, Val Loss: 0.5443, Val Metric: 0.0000\n",
            "Epoch [57/200], Train Loss: 0.3676, Train Metric: 0.0000, Val Loss: 0.5380, Val Metric: 0.0000\n",
            "Epoch [58/200], Train Loss: 0.3641, Train Metric: 0.0000, Val Loss: 0.5365, Val Metric: 0.0000\n",
            "Epoch [59/200], Train Loss: 0.3571, Train Metric: 0.0000, Val Loss: 0.5355, Val Metric: 0.0000\n",
            "Epoch [60/200], Train Loss: 0.3549, Train Metric: 0.0000, Val Loss: 0.5232, Val Metric: 0.0000\n",
            "Epoch [61/200], Train Loss: 0.3502, Train Metric: 0.0000, Val Loss: 0.5288, Val Metric: 0.0000\n",
            "Epoch [62/200], Train Loss: 0.3450, Train Metric: 0.0000, Val Loss: 0.5193, Val Metric: 0.0000\n",
            "Epoch [63/200], Train Loss: 0.3423, Train Metric: 0.0000, Val Loss: 0.5170, Val Metric: 0.0000\n",
            "Epoch [64/200], Train Loss: 0.3349, Train Metric: 0.0000, Val Loss: 0.5032, Val Metric: 0.0000\n",
            "Epoch [65/200], Train Loss: 0.3302, Train Metric: 0.0000, Val Loss: 0.5059, Val Metric: 0.0000\n",
            "Epoch [66/200], Train Loss: 0.3298, Train Metric: 0.0000, Val Loss: 0.4986, Val Metric: 0.0000\n",
            "Epoch [67/200], Train Loss: 0.3219, Train Metric: 0.0000, Val Loss: 0.4921, Val Metric: 0.0000\n",
            "Epoch [68/200], Train Loss: 0.3177, Train Metric: 0.0000, Val Loss: 0.4932, Val Metric: 0.0000\n",
            "Epoch [69/200], Train Loss: 0.3107, Train Metric: 0.0000, Val Loss: 0.4811, Val Metric: 0.0000\n",
            "Epoch [70/200], Train Loss: 0.3113, Train Metric: 0.0000, Val Loss: 0.4829, Val Metric: 0.0000\n",
            "Epoch [71/200], Train Loss: 0.3091, Train Metric: 0.0000, Val Loss: 0.4788, Val Metric: 0.0000\n",
            "Epoch [72/200], Train Loss: 0.3014, Train Metric: 0.0000, Val Loss: 0.4684, Val Metric: 0.0000\n",
            "Epoch [73/200], Train Loss: 0.2977, Train Metric: 0.0000, Val Loss: 0.4689, Val Metric: 0.0000\n",
            "Epoch [74/200], Train Loss: 0.2916, Train Metric: 0.0000, Val Loss: 0.4664, Val Metric: 0.0000\n",
            "Epoch [75/200], Train Loss: 0.2919, Train Metric: 0.0000, Val Loss: 0.4655, Val Metric: 0.0000\n",
            "Epoch [76/200], Train Loss: 0.2841, Train Metric: 0.0000, Val Loss: 0.4571, Val Metric: 0.0000\n",
            "Epoch [77/200], Train Loss: 0.2842, Train Metric: 0.0000, Val Loss: 0.4585, Val Metric: 0.0000\n",
            "Epoch [78/200], Train Loss: 0.2800, Train Metric: 0.0000, Val Loss: 0.4611, Val Metric: 0.0000\n",
            "Epoch [79/200], Train Loss: 0.2734, Train Metric: 0.0000, Val Loss: 0.4436, Val Metric: 0.0000\n",
            "Epoch [80/200], Train Loss: 0.2714, Train Metric: 0.0000, Val Loss: 0.4534, Val Metric: 0.0000\n",
            "Epoch [81/200], Train Loss: 0.2688, Train Metric: 0.0000, Val Loss: 0.4357, Val Metric: 0.0000\n",
            "Epoch [82/200], Train Loss: 0.2657, Train Metric: 0.0000, Val Loss: 0.4409, Val Metric: 0.0000\n",
            "Epoch [83/200], Train Loss: 0.2642, Train Metric: 0.0000, Val Loss: 0.4327, Val Metric: 0.0000\n",
            "Epoch [84/200], Train Loss: 0.2588, Train Metric: 0.0000, Val Loss: 0.4264, Val Metric: 0.0000\n",
            "Epoch [85/200], Train Loss: 0.2571, Train Metric: 0.0000, Val Loss: 0.4281, Val Metric: 0.0000\n",
            "Epoch [86/200], Train Loss: 0.2546, Train Metric: 0.0000, Val Loss: 0.4242, Val Metric: 0.0000\n",
            "Epoch [87/200], Train Loss: 0.2554, Train Metric: 0.0000, Val Loss: 0.4238, Val Metric: 0.0000\n",
            "Epoch [88/200], Train Loss: 0.2527, Train Metric: 0.0000, Val Loss: 0.4213, Val Metric: 0.0000\n",
            "Epoch [89/200], Train Loss: 0.2496, Train Metric: 0.0000, Val Loss: 0.4144, Val Metric: 0.0000\n",
            "Epoch [90/200], Train Loss: 0.2446, Train Metric: 0.0000, Val Loss: 0.4165, Val Metric: 0.0000\n",
            "Epoch [91/200], Train Loss: 0.2411, Train Metric: 0.0000, Val Loss: 0.4136, Val Metric: 0.0000\n",
            "Epoch [92/200], Train Loss: 0.2399, Train Metric: 0.0000, Val Loss: 0.4078, Val Metric: 0.0000\n",
            "Epoch [93/200], Train Loss: 0.2373, Train Metric: 0.0000, Val Loss: 0.4115, Val Metric: 0.0000\n",
            "Epoch [94/200], Train Loss: 0.2347, Train Metric: 0.0000, Val Loss: 0.4136, Val Metric: 0.0000\n",
            "Epoch [95/200], Train Loss: 0.2340, Train Metric: 0.0000, Val Loss: 0.4017, Val Metric: 0.0000\n",
            "Epoch [96/200], Train Loss: 0.2312, Train Metric: 0.0000, Val Loss: 0.4047, Val Metric: 0.0000\n",
            "Epoch [97/200], Train Loss: 0.2298, Train Metric: 0.0000, Val Loss: 0.4030, Val Metric: 0.0000\n",
            "Epoch [98/200], Train Loss: 0.2252, Train Metric: 0.0000, Val Loss: 0.3971, Val Metric: 0.0000\n",
            "Epoch [99/200], Train Loss: 0.2250, Train Metric: 0.0000, Val Loss: 0.3995, Val Metric: 0.0000\n",
            "Epoch [100/200], Train Loss: 0.2232, Train Metric: 0.0000, Val Loss: 0.4064, Val Metric: 0.0000\n",
            "Epoch [101/200], Train Loss: 0.2217, Train Metric: 0.0000, Val Loss: 0.3988, Val Metric: 0.0000\n",
            "Epoch [102/200], Train Loss: 0.2204, Train Metric: 0.0000, Val Loss: 0.3865, Val Metric: 0.0000\n",
            "Epoch [103/200], Train Loss: 0.2205, Train Metric: 0.0000, Val Loss: 0.3908, Val Metric: 0.0000\n",
            "Epoch [104/200], Train Loss: 0.2179, Train Metric: 0.0000, Val Loss: 0.3902, Val Metric: 0.0000\n",
            "Epoch [105/200], Train Loss: 0.2135, Train Metric: 0.0000, Val Loss: 0.3816, Val Metric: 0.0000\n",
            "Epoch [106/200], Train Loss: 0.2145, Train Metric: 0.0000, Val Loss: 0.3891, Val Metric: 0.0000\n",
            "Epoch [107/200], Train Loss: 0.2138, Train Metric: 0.0000, Val Loss: 0.3922, Val Metric: 0.0000\n",
            "Epoch [108/200], Train Loss: 0.2122, Train Metric: 0.0000, Val Loss: 0.3859, Val Metric: 0.0000\n",
            "Epoch [109/200], Train Loss: 0.2105, Train Metric: 0.0000, Val Loss: 0.3772, Val Metric: 0.0000\n",
            "Epoch [110/200], Train Loss: 0.2077, Train Metric: 0.0000, Val Loss: 0.3948, Val Metric: 0.0000\n",
            "Epoch [111/200], Train Loss: 0.2076, Train Metric: 0.0000, Val Loss: 0.3807, Val Metric: 0.0000\n",
            "Epoch [112/200], Train Loss: 0.2046, Train Metric: 0.0000, Val Loss: 0.3811, Val Metric: 0.0000\n",
            "Epoch [113/200], Train Loss: 0.2043, Train Metric: 0.0000, Val Loss: 0.3830, Val Metric: 0.0000\n",
            "Epoch [114/200], Train Loss: 0.2027, Train Metric: 0.0000, Val Loss: 0.3756, Val Metric: 0.0000\n",
            "Epoch [115/200], Train Loss: 0.2041, Train Metric: 0.0000, Val Loss: 0.3757, Val Metric: 0.0000\n",
            "Epoch [116/200], Train Loss: 0.1999, Train Metric: 0.0000, Val Loss: 0.3741, Val Metric: 0.0000\n",
            "Epoch [117/200], Train Loss: 0.2019, Train Metric: 0.0000, Val Loss: 0.3759, Val Metric: 0.0000\n",
            "Epoch [118/200], Train Loss: 0.2012, Train Metric: 0.0000, Val Loss: 0.3696, Val Metric: 0.0000\n",
            "Epoch [119/200], Train Loss: 0.1964, Train Metric: 0.0000, Val Loss: 0.3626, Val Metric: 0.0000\n",
            "Epoch [120/200], Train Loss: 0.1971, Train Metric: 0.0000, Val Loss: 0.3698, Val Metric: 0.0000\n",
            "Epoch [121/200], Train Loss: 0.1955, Train Metric: 0.0000, Val Loss: 0.3655, Val Metric: 0.0000\n",
            "Epoch [122/200], Train Loss: 0.1960, Train Metric: 0.0000, Val Loss: 0.3688, Val Metric: 0.0000\n",
            "Epoch [123/200], Train Loss: 0.1927, Train Metric: 0.0000, Val Loss: 0.3751, Val Metric: 0.0000\n",
            "Epoch [124/200], Train Loss: 0.1913, Train Metric: 0.0000, Val Loss: 0.3611, Val Metric: 0.0000\n",
            "Epoch [125/200], Train Loss: 0.1939, Train Metric: 0.0000, Val Loss: 0.3657, Val Metric: 0.0000\n",
            "Epoch [126/200], Train Loss: 0.1936, Train Metric: 0.0000, Val Loss: 0.3675, Val Metric: 0.0000\n",
            "Epoch [127/200], Train Loss: 0.1907, Train Metric: 0.0000, Val Loss: 0.3726, Val Metric: 0.0000\n",
            "Epoch [128/200], Train Loss: 0.1886, Train Metric: 0.0000, Val Loss: 0.3642, Val Metric: 0.0000\n",
            "Epoch [129/200], Train Loss: 0.1859, Train Metric: 0.0000, Val Loss: 0.3634, Val Metric: 0.0000\n",
            "Epoch [130/200], Train Loss: 0.1857, Train Metric: 0.0000, Val Loss: 0.3612, Val Metric: 0.0000\n",
            "Epoch [131/200], Train Loss: 0.1908, Train Metric: 0.0000, Val Loss: 0.3597, Val Metric: 0.0000\n",
            "Epoch [132/200], Train Loss: 0.1884, Train Metric: 0.0000, Val Loss: 0.3620, Val Metric: 0.0000\n",
            "Epoch [133/200], Train Loss: 0.1876, Train Metric: 0.0000, Val Loss: 0.3582, Val Metric: 0.0000\n",
            "Epoch [134/200], Train Loss: 0.1834, Train Metric: 0.0000, Val Loss: 0.3556, Val Metric: 0.0000\n",
            "Epoch [135/200], Train Loss: 0.1834, Train Metric: 0.0000, Val Loss: 0.3600, Val Metric: 0.0000\n",
            "Epoch [136/200], Train Loss: 0.1841, Train Metric: 0.0000, Val Loss: 0.3582, Val Metric: 0.0000\n",
            "Epoch [137/200], Train Loss: 0.1812, Train Metric: 0.0000, Val Loss: 0.3478, Val Metric: 0.0000\n",
            "Epoch [138/200], Train Loss: 0.1804, Train Metric: 0.0000, Val Loss: 0.3566, Val Metric: 0.0000\n",
            "Epoch [139/200], Train Loss: 0.1825, Train Metric: 0.0000, Val Loss: 0.3593, Val Metric: 0.0000\n",
            "Epoch [140/200], Train Loss: 0.1818, Train Metric: 0.0000, Val Loss: 0.3544, Val Metric: 0.0000\n",
            "Epoch [141/200], Train Loss: 0.1806, Train Metric: 0.0000, Val Loss: 0.3577, Val Metric: 0.0000\n",
            "Epoch [142/200], Train Loss: 0.1793, Train Metric: 0.0000, Val Loss: 0.3509, Val Metric: 0.0000\n",
            "Epoch [143/200], Train Loss: 0.1777, Train Metric: 0.0000, Val Loss: 0.3494, Val Metric: 0.0000\n",
            "Epoch [144/200], Train Loss: 0.1803, Train Metric: 0.0000, Val Loss: 0.3462, Val Metric: 0.0000\n",
            "Epoch [145/200], Train Loss: 0.1765, Train Metric: 0.0000, Val Loss: 0.3531, Val Metric: 0.0000\n",
            "Epoch [146/200], Train Loss: 0.1735, Train Metric: 0.0000, Val Loss: 0.3567, Val Metric: 0.0000\n",
            "Epoch [147/200], Train Loss: 0.1758, Train Metric: 0.0000, Val Loss: 0.3518, Val Metric: 0.0000\n",
            "Epoch [148/200], Train Loss: 0.1726, Train Metric: 0.0000, Val Loss: 0.3555, Val Metric: 0.0000\n",
            "Epoch [149/200], Train Loss: 0.1749, Train Metric: 0.0000, Val Loss: 0.3592, Val Metric: 0.0000\n",
            "Epoch [150/200], Train Loss: 0.1736, Train Metric: 0.0000, Val Loss: 0.3450, Val Metric: 0.0000\n",
            "Epoch [151/200], Train Loss: 0.1719, Train Metric: 0.0000, Val Loss: 0.3436, Val Metric: 0.0000\n",
            "Epoch [152/200], Train Loss: 0.1710, Train Metric: 0.0000, Val Loss: 0.3418, Val Metric: 0.0000\n",
            "Epoch [153/200], Train Loss: 0.1708, Train Metric: 0.0000, Val Loss: 0.3455, Val Metric: 0.0000\n",
            "Epoch [154/200], Train Loss: 0.1718, Train Metric: 0.0000, Val Loss: 0.3454, Val Metric: 0.0000\n",
            "Epoch [155/200], Train Loss: 0.1684, Train Metric: 0.0000, Val Loss: 0.3401, Val Metric: 0.0000\n",
            "Epoch [156/200], Train Loss: 0.1689, Train Metric: 0.0000, Val Loss: 0.3385, Val Metric: 0.0000\n",
            "Epoch [157/200], Train Loss: 0.1668, Train Metric: 0.0000, Val Loss: 0.3378, Val Metric: 0.0000\n",
            "Epoch [158/200], Train Loss: 0.1666, Train Metric: 0.0000, Val Loss: 0.3409, Val Metric: 0.0000\n",
            "Epoch [159/200], Train Loss: 0.1672, Train Metric: 0.0000, Val Loss: 0.3410, Val Metric: 0.0000\n",
            "Epoch [160/200], Train Loss: 0.1671, Train Metric: 0.0000, Val Loss: 0.3421, Val Metric: 0.0000\n",
            "Epoch [161/200], Train Loss: 0.1670, Train Metric: 0.0000, Val Loss: 0.3432, Val Metric: 0.0000\n",
            "Epoch [162/200], Train Loss: 0.1659, Train Metric: 0.0000, Val Loss: 0.3350, Val Metric: 0.0000\n",
            "Epoch [163/200], Train Loss: 0.1647, Train Metric: 0.0000, Val Loss: 0.3339, Val Metric: 0.0000\n",
            "Epoch [164/200], Train Loss: 0.1637, Train Metric: 0.0000, Val Loss: 0.3435, Val Metric: 0.0000\n",
            "Epoch [165/200], Train Loss: 0.1639, Train Metric: 0.0000, Val Loss: 0.3440, Val Metric: 0.0000\n",
            "Epoch [166/200], Train Loss: 0.1623, Train Metric: 0.0000, Val Loss: 0.3376, Val Metric: 0.0000\n",
            "Epoch [167/200], Train Loss: 0.1609, Train Metric: 0.0000, Val Loss: 0.3307, Val Metric: 0.0000\n",
            "Epoch [168/200], Train Loss: 0.1621, Train Metric: 0.0000, Val Loss: 0.3305, Val Metric: 0.0000\n",
            "Epoch [169/200], Train Loss: 0.1612, Train Metric: 0.0000, Val Loss: 0.3336, Val Metric: 0.0000\n",
            "Epoch [170/200], Train Loss: 0.1622, Train Metric: 0.0000, Val Loss: 0.3397, Val Metric: 0.0000\n",
            "Epoch [171/200], Train Loss: 0.1612, Train Metric: 0.0000, Val Loss: 0.3366, Val Metric: 0.0000\n",
            "Epoch [172/200], Train Loss: 0.1585, Train Metric: 0.0000, Val Loss: 0.3337, Val Metric: 0.0000\n",
            "Epoch [173/200], Train Loss: 0.1575, Train Metric: 0.0000, Val Loss: 0.3299, Val Metric: 0.0000\n",
            "Epoch [174/200], Train Loss: 0.1583, Train Metric: 0.0000, Val Loss: 0.3404, Val Metric: 0.0000\n",
            "Epoch [175/200], Train Loss: 0.1597, Train Metric: 0.0000, Val Loss: 0.3277, Val Metric: 0.0000\n",
            "Epoch [176/200], Train Loss: 0.1579, Train Metric: 0.0000, Val Loss: 0.3283, Val Metric: 0.0000\n",
            "Epoch [177/200], Train Loss: 0.1560, Train Metric: 0.0000, Val Loss: 0.3245, Val Metric: 0.0000\n",
            "Epoch [178/200], Train Loss: 0.1572, Train Metric: 0.0000, Val Loss: 0.3278, Val Metric: 0.0000\n",
            "Epoch [179/200], Train Loss: 0.1566, Train Metric: 0.0000, Val Loss: 0.3266, Val Metric: 0.0000\n",
            "Epoch [180/200], Train Loss: 0.1551, Train Metric: 0.0000, Val Loss: 0.3190, Val Metric: 0.0000\n",
            "Epoch [181/200], Train Loss: 0.1554, Train Metric: 0.0000, Val Loss: 0.3242, Val Metric: 0.0000\n",
            "Epoch [182/200], Train Loss: 0.1521, Train Metric: 0.0000, Val Loss: 0.3285, Val Metric: 0.0000\n",
            "Epoch [183/200], Train Loss: 0.1533, Train Metric: 0.0000, Val Loss: 0.3236, Val Metric: 0.0000\n",
            "Epoch [184/200], Train Loss: 0.1536, Train Metric: 0.0000, Val Loss: 0.3250, Val Metric: 0.0000\n",
            "Epoch [185/200], Train Loss: 0.1549, Train Metric: 0.0000, Val Loss: 0.3251, Val Metric: 0.0000\n",
            "Epoch [186/200], Train Loss: 0.1525, Train Metric: 0.0000, Val Loss: 0.3254, Val Metric: 0.0000\n",
            "Epoch [187/200], Train Loss: 0.1510, Train Metric: 0.0000, Val Loss: 0.3252, Val Metric: 0.0000\n",
            "Epoch [188/200], Train Loss: 0.1517, Train Metric: 0.0000, Val Loss: 0.3350, Val Metric: 0.0000\n",
            "Epoch [189/200], Train Loss: 0.1512, Train Metric: 0.0000, Val Loss: 0.3261, Val Metric: 0.0000\n",
            "Epoch [190/200], Train Loss: 0.1485, Train Metric: 0.0000, Val Loss: 0.3246, Val Metric: 0.0000\n",
            "Epoch [191/200], Train Loss: 0.1489, Train Metric: 0.0000, Val Loss: 0.3207, Val Metric: 0.0000\n",
            "Epoch [192/200], Train Loss: 0.1474, Train Metric: 0.0000, Val Loss: 0.3184, Val Metric: 0.0000\n",
            "Epoch [193/200], Train Loss: 0.1489, Train Metric: 0.0000, Val Loss: 0.3170, Val Metric: 0.0000\n",
            "Epoch [194/200], Train Loss: 0.1476, Train Metric: 0.0000, Val Loss: 0.3228, Val Metric: 0.0000\n",
            "Epoch [195/200], Train Loss: 0.1488, Train Metric: 0.0000, Val Loss: 0.3281, Val Metric: 0.0000\n",
            "Epoch [196/200], Train Loss: 0.1500, Train Metric: 0.0000, Val Loss: 0.3361, Val Metric: 0.0000\n",
            "Epoch [197/200], Train Loss: 0.1503, Train Metric: 0.0000, Val Loss: 0.3300, Val Metric: 0.0000\n",
            "Epoch [198/200], Train Loss: 0.1461, Train Metric: 0.0000, Val Loss: 0.3250, Val Metric: 0.0000\n",
            "Epoch [199/200], Train Loss: 0.1458, Train Metric: 0.0000, Val Loss: 0.3114, Val Metric: 0.0000\n",
            "Epoch [200/200], Train Loss: 0.1462, Train Metric: 0.0000, Val Loss: 0.3262, Val Metric: 0.0000\n"
          ]
        }
      ],
      "source": [
        "optimizer = torch.optim.Adam(simplenn.parameters(), lr=0.0001)\n",
        "criterion = nn.MSELoss()\n",
        "# now train it\n",
        "history, simplenn = train_and_validate(rkky_train_loader, rkky_valid_loader, simplenn, optimizer, criterion, num_epochs=200, device=device)"
      ]
    },
    {
      "cell_type": "code",
      "execution_count": null,
      "metadata": {
        "id": "oNmHuEm0eMlD",
        "colab": {
          "base_uri": "https://localhost:8080/",
          "height": 185
        },
        "outputId": "c606f9f8-a38d-4a0f-fe09-3002d39b3a3c"
      },
      "outputs": [
        {
          "output_type": "error",
          "ename": "NameError",
          "evalue": "name 'test_model' is not defined",
          "traceback": [
            "\u001b[0;31m---------------------------------------------------------------------------\u001b[0m",
            "\u001b[0;31mNameError\u001b[0m                                 Traceback (most recent call last)",
            "\u001b[0;32m<ipython-input-3-e82f06aba7cb>\u001b[0m in \u001b[0;36m<cell line: 2>\u001b[0;34m()\u001b[0m\n\u001b[1;32m      1\u001b[0m \u001b[0;31m# check results on test set\u001b[0m\u001b[0;34m\u001b[0m\u001b[0;34m\u001b[0m\u001b[0m\n\u001b[0;32m----> 2\u001b[0;31m \u001b[0mresults\u001b[0m \u001b[0;34m=\u001b[0m \u001b[0mtest_model\u001b[0m\u001b[0;34m(\u001b[0m\u001b[0msimplenn\u001b[0m\u001b[0;34m,\u001b[0m \u001b[0mrkky_valid_loader\u001b[0m\u001b[0;34m,\u001b[0m \u001b[0mcriterion\u001b[0m\u001b[0;34m,\u001b[0m \u001b[0mdevice\u001b[0m\u001b[0;34m=\u001b[0m\u001b[0mdevice\u001b[0m\u001b[0;34m)\u001b[0m\u001b[0;34m\u001b[0m\u001b[0;34m\u001b[0m\u001b[0m\n\u001b[0m\u001b[1;32m      3\u001b[0m \u001b[0mprint\u001b[0m\u001b[0;34m(\u001b[0m\u001b[0;34m\"test loss:\"\u001b[0m\u001b[0;34m,\u001b[0m \u001b[0mresults\u001b[0m\u001b[0;34m)\u001b[0m\u001b[0;34m\u001b[0m\u001b[0;34m\u001b[0m\u001b[0m\n",
            "\u001b[0;31mNameError\u001b[0m: name 'test_model' is not defined"
          ]
        }
      ],
      "source": [
        "# check results on test set\n",
        "results = test_model(simplenn, rkky_valid_loader, criterion, device=device)\n",
        "print(\"test loss:\", results)"
      ]
    },
    {
      "cell_type": "code",
      "execution_count": null,
      "metadata": {
        "id": "Qe3FcEcWZaM7"
      },
      "outputs": [],
      "source": [
        "simplenn.to('cpu')\n",
        "simplenn.eval()\n",
        "predictions = [simplenn(x[0]).detach().numpy() for x in gauss_valid_loader]\n",
        "predictions = np.concatenate(predictions, axis=0)\n",
        "predictions = gauss_y_sc.inverse_transform(predictions)\n",
        "true = gauss_y_sc.inverse_transform(gauss_valid_loader.dataset.y.numpy())"
      ]
    },
    {
      "cell_type": "markdown",
      "metadata": {
        "id": "rdwjtKVEg8Hr"
      },
      "source": [
        "## Model performance visualization\n",
        "\n",
        "The quantities we are trying to predict and the associated predictions are <br>\n",
        "shown below. They are `alpha`, `xi`, and `d`. Below true and predicted values <br>\n",
        "are compared using a correlation plot."
      ]
    },
    {
      "cell_type": "code",
      "execution_count": null,
      "metadata": {
        "id": "lvXkonAxZSxx",
        "colab": {
          "base_uri": "https://localhost:8080/",
          "height": 1000
        },
        "outputId": "48195605-9b1f-430f-82c1-757b05f0657a"
      },
      "outputs": [
        {
          "output_type": "execute_result",
          "data": {
            "text/plain": [
              "Text(0.5, 1.0, 'Dissipation strength')"
            ]
          },
          "metadata": {},
          "execution_count": 12
        },
        {
          "output_type": "display_data",
          "data": {
            "text/plain": [
              "<Figure size 640x480 with 1 Axes>"
            ],
            "image/png": "[encoded data removed]"
          },
          "metadata": {}
        },
        {
          "output_type": "display_data",
          "data": {
            "text/plain": [
              "<Figure size 640x480 with 1 Axes>"
            ],
            "image/png": "[encoded data removed]"
          },
          "metadata": {}
        },
        {
          "output_type": "display_data",
          "data": {
            "text/plain": [
              "<Figure size 640x480 with 1 Axes>"
            ],
            "image/png": "[encoded data removed]"
          },
          "metadata": {}
        }
      ],
      "source": [
        "plt.scatter(predictions[:,0],true[:,0]);\n",
        "plt.plot([-100,100],[-100, 100],\"--k\")\n",
        "plt.xlabel(\"True alpha\");\n",
        "plt.ylabel(\"Predicted alpha\");\n",
        "plt.axis([-2, 24, -2, 24])\n",
        "plt.title(\"Correlation strength\")\n",
        "\n",
        "plt.figure()\n",
        "plt.scatter(predictions[:,1],true[:,1]);\n",
        "plt.plot([-100, 100],[-100, 100],\"--k\")\n",
        "plt.xlabel(\"True xi\");\n",
        "plt.ylabel(\"Predicted xi\");\n",
        "plt.axis([0, 70, 0, 70])\n",
        "plt.title(\"Correlation length\")\n",
        "\n",
        "plt.figure()\n",
        "plt.scatter(predictions[:,2],true[:,2]);\n",
        "plt.plot([-100, 100],[-100, 100],\"--k\")\n",
        "plt.xlabel(\"True d\");\n",
        "plt.ylabel(\"Predicted d\");\n",
        "plt.axis([5, 12, 5, 12])\n",
        "plt.title(\"Dissipation strength\")"
      ]
    },
    {
      "cell_type": "markdown",
      "metadata": {
        "id": "mkipX19ReMlD"
      },
      "source": [
        "## **Submission**\n",
        "\n",
        "__Two models: one for guass and one for rkky__\n",
        "\n",
        "We ask you to make your predictions on the test sets. You don't have the true <br>\n",
        "labels for the test sets meaning you are limited only to what you know about <br>\n",
        "train sets (and validation subsets) to build the best models possible.\n",
        "\n",
        "Use models to predict the three spin-interaction variables from the  <br>\n",
        "echos, and submit results for **each model** in a tab delimited .txt  <br>\n",
        "file of dimensions 6000 x 3 matching the \"\\<model_type\\>\\_mat_info_model.txt\" format.\n",
        "\n",
        "That is, the columns should be:\n",
        "\n",
        "| $\\alpha$ | $\\xi$ | $d$ |\n",
        "      \n",
        "and there should be 6000 rows.\n",
        "\n",
        "Name this file \"\\<model_type\\>_mat_info_eval.txt\"\n",
        "\n",
        "__Evaluation__\n",
        "\n",
        "The quality of the model will be judged by the minimization of normalized <br> mean-square error:\n",
        "\n",
        "\n",
        "$\\textrm{Err} = \\sum_{v=1}^{3} \\sum_{i=i}^{6000} \\left( \\tilde{v}^i_\\textrm{model} - \\tilde{v}^i_\\textrm{true} \\right)^2 $\n",
        "\n",
        "where $v^i$ is one of the three spin-interaction variables for echo number $i$, <br>\n",
        "and the tilde represents normalization of each variable (using the <br> StandardScaler() object used above).\n",
        "\n",
        "\n",
        "Your submission should include: <br>\n",
        "- Your ipython notebook (`.ipynb`),<br>\n",
        "- A PDF copy of your notebook together with a description of what you have done,<br>\n",
        "- Your model's evaluation of the Gaussian data (\"gauss_mat_info_eval.txt\"), <br>\n",
        "- Your model's evaluation of the RKKY data (\"RKKY_mat_info_eval.txt\").\n",
        "\n",
        "**NOTE: If your final model prediction files aren't named like** <br>\n",
        "**\"gauss_mat_info_eval.txt\" and \"RKKY_mat_info_eval.txt\" your results cannot be**<br>\n",
        "**counted for hackathon rankings.**\n"
      ]
    },
    {
      "cell_type": "code",
      "execution_count": null,
      "metadata": {
        "id": "_VhCFHJPdyE6"
      },
      "outputs": [],
      "source": [
        "def exponential_decay(lr0, s):\n",
        "    def exponential_decay_fn(epoch):\n",
        "        return lr0 * 0.1**(epoch / s)\n",
        "    return exponential_decay_fn\n",
        "\n",
        "exponential_decay_fn = exponential_decay(lr0=0.01, s=20)"
      ]
    },
    {
      "cell_type": "markdown",
      "metadata": {
        "id": "Wq2dgMbzjmKr"
      },
      "source": [
        "Just a Neural Network:"
      ]
    },
    {
      "cell_type": "code",
      "execution_count": null,
      "metadata": {
        "id": "M6r06kZFbR4P",
        "colab": {
          "base_uri": "https://localhost:8080/"
        },
        "outputId": "00607613-2dc2-4c63-c72a-5e196bebb0b0"
      },
      "outputs": [
        {
          "output_type": "execute_result",
          "data": {
            "text/plain": [
              "Sequential(\n",
              "  (0): Flatten(start_dim=1, end_dim=-1)\n",
              "  (1): BatchNorm1d(400, eps=1e-05, momentum=0.1, affine=True, track_running_stats=True)\n",
              "  (2): Dropout(p=0.2, inplace=False)\n",
              "  (3): Linear(in_features=400, out_features=100, bias=True)\n",
              "  (4): ReLU()\n",
              "  (5): BatchNorm1d(100, eps=1e-05, momentum=0.1, affine=True, track_running_stats=True)\n",
              "  (6): Dropout(p=0.2, inplace=False)\n",
              "  (7): Linear(in_features=100, out_features=40, bias=True)\n",
              "  (8): ReLU()\n",
              "  (9): Linear(in_features=40, out_features=3, bias=True)\n",
              ")"
            ]
          },
          "metadata": {},
          "execution_count": 14
        }
      ],
      "source": [
        "N = np.shape(next(iter(gauss_train_loader))[0])[1] # number of input values from M(t) curve\n",
        "\n",
        "# define the net\n",
        "simplenn = nn.Sequential()\n",
        "simplenn.append(nn.Flatten())\n",
        "\n",
        "simplenn.append(nn.BatchNorm1d(N*2))\n",
        "simplenn.append(nn.Dropout(p=0.2))\n",
        "simplenn.append(nn.Linear(N*2, 100))\n",
        "simplenn.append(nn.ReLU())\n",
        "\n",
        "#simplenn.append(nn.BatchNorm1d(100))\n",
        "#simplenn.append(nn.Dropout(p=0.2))\n",
        "#simplenn.append(nn.Linear(100, 80))\n",
        "#simplenn.append(nn.ReLU())\n",
        "\n",
        "simplenn.append(nn.BatchNorm1d(100))\n",
        "simplenn.append(nn.Dropout(p=0.2))\n",
        "simplenn.append(nn.Linear(100, 40))\n",
        "simplenn.append(nn.ReLU())\n",
        "\n",
        "simplenn.append(nn.Linear(40, 3))"
      ]
    },
    {
      "cell_type": "code",
      "execution_count": null,
      "metadata": {
        "id": "P-BWrkm9dCS5"
      },
      "outputs": [],
      "source": [
        "optimizer = torch.optim.Adam(simplenn.parameters(), lr=0.018)\n",
        "criterion = nn.MSELoss()\n",
        "scheduler = torch.optim.lr_scheduler.LambdaLR(optimizer, exponential_decay_fn)\n",
        "\n",
        "# now train it\n",
        "history, simplenn = train_and_validate(gauss_train_loader, gauss_valid_loader, simplenn, optimizer, criterion, num_epochs=200, device=device)"
      ]
    },
    {
      "cell_type": "code",
      "execution_count": null,
      "metadata": {
        "id": "bh-JgUWYqoR5",
        "colab": {
          "base_uri": "https://localhost:8080/"
        },
        "outputId": "6261a001-129a-4c86-9d0f-8e734c382832"
      },
      "outputs": [
        {
          "output_type": "execute_result",
          "data": {
            "text/plain": [
              "Sequential(\n",
              "  (0): Flatten(start_dim=1, end_dim=-1)\n",
              "  (1): BatchNorm1d(400, eps=1e-05, momentum=0.1, affine=True, track_running_stats=True)\n",
              "  (2): Dropout(p=0.2, inplace=False)\n",
              "  (3): Linear(in_features=400, out_features=100, bias=True)\n",
              "  (4): ReLU()\n",
              "  (5): BatchNorm1d(100, eps=1e-05, momentum=0.1, affine=True, track_running_stats=True)\n",
              "  (6): Dropout(p=0.2, inplace=False)\n",
              "  (7): Linear(in_features=100, out_features=40, bias=True)\n",
              "  (8): ReLU()\n",
              "  (9): Linear(in_features=40, out_features=3, bias=True)\n",
              ")"
            ]
          },
          "metadata": {},
          "execution_count": 16
        }
      ],
      "source": [
        "N = np.shape(next(iter(rkky_train_loader))[0])[1] # number of input values from M(t) curve\n",
        "\n",
        "# define the net\n",
        "simplenn_r = nn.Sequential()\n",
        "simplenn_r.append(nn.Flatten())\n",
        "\n",
        "simplenn_r.append(nn.BatchNorm1d(N*2))\n",
        "simplenn_r.append(nn.Dropout(p=0.2))\n",
        "simplenn_r.append(nn.Linear(N*2, 100))\n",
        "simplenn_r.append(nn.ReLU())\n",
        "\n",
        "#simplenn_r.append(nn.BatchNorm1d(100))\n",
        "#simplenn_r.append(nn.Dropout(p=0.2))\n",
        "#simplenn_r.append(nn.Linear(100, 80))\n",
        "#simplenn_r.append(nn.ReLU())\n",
        "\n",
        "simplenn_r.append(nn.BatchNorm1d(100))\n",
        "simplenn_r.append(nn.Dropout(p=0.2))\n",
        "simplenn_r.append(nn.Linear(100, 40))\n",
        "simplenn_r.append(nn.ReLU())\n",
        "\n",
        "simplenn_r.append(nn.Linear(40, 3))"
      ]
    },
    {
      "cell_type": "code",
      "execution_count": null,
      "metadata": {
        "id": "hboSyurHq2SP"
      },
      "outputs": [],
      "source": [
        "optimizer = torch.optim.NAdam(simplenn_r.parameters(), lr=0.01)\n",
        "criterion = nn.MSELoss()\n",
        "scheduler = torch.optim.lr_scheduler.LambdaLR(optimizer, exponential_decay_fn)\n",
        "\n",
        "# now train it\n",
        "history, simplenn = train_and_validate(rkky_train_loader, rkky_valid_loader, simplenn_r, optimizer, criterion, num_epochs=200, device=device)"
      ]
    },
    {
      "cell_type": "code",
      "execution_count": null,
      "metadata": {
        "id": "Ch4xWV0xvO0n"
      },
      "outputs": [],
      "source": [
        "#make all the data nice for sklearn here\n",
        "X_gauss_train = np.concatenate((gauss_train_X_imaginary, gauss_train_X_real), axis = 1)\n",
        "X_gauss_valid = np.concatenate((gauss_valid_X_imaginary, gauss_valid_X_real), axis = 1)\n",
        "X_gauss_test = np.concatenate((gauss_test_X_imaginary, gauss_test_X_real), axis = 1)\n",
        "\n",
        "X_r_train = np.concatenate((rkky_train_X_imaginary, rkky_train_X_real), axis = 1)\n",
        "X_r_valid = np.concatenate((rkky_valid_X_imaginary, rkky_valid_X_real), axis = 1)\n",
        "X_r_test = np.concatenate((rkky_test_X_imaginary, rkky_test_X_real), axis = 1)\n"
      ]
    },
    {
      "cell_type": "markdown",
      "metadata": {
        "id": "D2H2-m3CsL_O"
      },
      "source": [
        "Random Forest Regressor for rkky:"
      ]
    },
    {
      "cell_type": "code",
      "source": [
        "from google.colab import drive\n",
        "drive.mount('/content/drive')"
      ],
      "metadata": {
        "colab": {
          "base_uri": "https://localhost:8080/"
        },
        "id": "DZKkS0OEDbGW",
        "outputId": "84d49b2e-6da1-4c05-b52f-7a76e7eeb617"
      },
      "execution_count": null,
      "outputs": [
        {
          "output_type": "stream",
          "name": "stdout",
          "text": [
            "Mounted at /content/drive\n"
          ]
        }
      ]
    },
    {
      "cell_type": "code",
      "execution_count": null,
      "metadata": {
        "id": "ukujBoYezL1f",
        "colab": {
          "base_uri": "https://localhost:8080/"
        },
        "outputId": "3abef833-dbd6-4c39-823e-7b448e48bec2"
      },
      "outputs": [
        {
          "output_type": "stream",
          "name": "stdout",
          "text": [
            "Min loss:0.38573691189736703\n",
            "Max depth:18\n"
          ]
        }
      ],
      "source": [
        "from sklearn.multioutput import MultiOutputRegressor\n",
        "from sklearn.ensemble import RandomForestRegressor\n",
        "from sklearn.metrics import mean_squared_error\n",
        "\n",
        "\n",
        "min = 100\n",
        "\n",
        "#estimates for good numbers, with reasonable step sizes\n",
        "#num_est = np.arange(10, 80, 2)\n",
        "depths = np.arange(14, 20)\n",
        "\n",
        "\n",
        "\n",
        "#for e in num_est:\n",
        "for d in depths:\n",
        "  r_reg = MultiOutputRegressor(RandomForestRegressor(n_estimators=68, max_depth=d, random_state=42)).fit(X_r_train, rkky_train_y)\n",
        "  y_pred = r_reg.predict(X_r_valid)\n",
        "\n",
        "  this_loss = mean_squared_error(rkky_valid_y, y_pred)\n",
        "  #only save parameters that do very well\n",
        "  if this_loss < min:\n",
        "    min = this_loss\n",
        "    #params = [e,d]\n",
        "    params =  d\n",
        "\n",
        "print(f\"Min loss:{min}\")\n",
        "print(f\"Max depth:{params}\")"
      ]
    },
    {
      "cell_type": "code",
      "source": [
        "from sklearn.multioutput import MultiOutputRegressor\n",
        "from sklearn.ensemble import RandomForestRegressor\n",
        "from sklearn.metrics import mean_squared_error\n",
        "\n",
        "r_reg_fin = MultiOutputRegressor(RandomForestRegressor(n_estimators=68, max_depth=18, random_state=42)).fit(X_r_train, rkky_train_y)\n",
        "\n",
        "y_r_pred = r_reg_fin.predict(X_r_test)\n",
        "np.savetxt(\"/content/drive/MyDrive/Colab Notebooks/Machine Learning/RKKY_mat_info_eval.txt\", y_r_pred, delimiter = \"\\t\")"
      ],
      "metadata": {
        "id": "Q3e_9g2iyGrt"
      },
      "execution_count": null,
      "outputs": []
    },
    {
      "cell_type": "markdown",
      "source": [
        "Adaboost regressor for gaussian:"
      ],
      "metadata": {
        "id": "nf16om4kuY2o"
      }
    },
    {
      "cell_type": "code",
      "source": [
        "from sklearn.ensemble import AdaBoostRegressor\n",
        "from sklearn.tree import DecisionTreeRegressor\n",
        "from sklearn.multioutput import MultiOutputRegressor\n",
        "from sklearn.metrics import mean_squared_error\n",
        "\n",
        "min = 100\n",
        "\n",
        "#estimates for good numbers, with reasonable step sizes\n",
        "num_est = np.arange(10, 80, 2)\n",
        "l_rates = np.arange(0.01, 0.8, 0.01)\n",
        "depths = np.arange(10, 20)\n",
        "\n",
        "\n",
        "for l in l_rates:\n",
        "  for e in num_est:\n",
        "    for d in depths:\n",
        "      ada_gauss_reg = MultiOutputRegressor(AdaBoostRegressor(estimator = DecisionTreeRegressor(max_depth = d), n_estimators = e, learning_rate = l,random_state = 42)).fit(X_gauss_train, gauss_train_y)\n",
        "      y_pred = ada_gauss_reg.predict(X_gauss_valid)\n",
        "\n",
        "      this_loss = mean_squared_error(gauss_valid_y, y_pred)\n",
        "\n",
        "      #only save parameters that do very well\n",
        "      if this_loss < min:\n",
        "        min = this_loss\n",
        "        params = [e, l, d]\n",
        "\n",
        "print(f\"Min loss:{min}\")\n",
        "print(f\"Num estimators: {params[0]}\\nLearning rate: {params[1]}\\nMax depth:{params[2]}\")\n",
        "#I ran the above code in a jupyter notebook and the result in the time I had was a minimunm loss of 0.8092 with a learning rate of 0.01, a max depth of 20 and 54 estimators\n"
      ],
      "metadata": {
        "id": "Xi9evVwbuYfs"
      },
      "execution_count": null,
      "outputs": []
    },
    {
      "cell_type": "code",
      "source": [
        "from sklearn.ensemble import AdaBoostRegressor\n",
        "from sklearn.tree import DecisionTreeRegressor\n",
        "from sklearn.multioutput import MultiOutputRegressor\n",
        "\n",
        "#save results to .txt files\n",
        "\n",
        "ada_gauss_reg_fin = MultiOutputRegressor(AdaBoostRegressor(estimator = DecisionTreeRegressor(max_depth = 20), n_estimators = 54, learning_rate = 0.01, random_state = 42)).fit(X_gauss_train, gauss_train_y)\n",
        "y_gauss_pred = ada_gauss_reg_fin.predict(X_gauss_test)\n",
        "np.savetxt(\"/content/drive/MyDrive/Colab Notebooks/Machine Learning/gauss_mat_info_eval.txt\", y_gauss_pred, delimiter = \"\\t\")"
      ],
      "metadata": {
        "id": "HJZqOrpmpC3i"
      },
      "execution_count": null,
      "outputs": []
    },
    {
      "cell_type": "markdown",
      "source": [
        "We tried both Adaboost and just a random forest for both rkky and gaussian, but adaboost worked well for gaussian while the random forest did better for rkky."
      ],
      "metadata": {
        "id": "pxUeLMeVRJiP"
      }
    }
  ],
  "metadata": {
    "colab": {
      "provenance": []
    },
    "kernelspec": {
      "display_name": "Python 3",
      "name": "python3"
    },
    "language_info": {
      "codemirror_mode": {
        "name": "ipython",
        "version": 3
      },
      "file_extension": ".py",
      "mimetype": "text/x-python",
      "name": "python",
      "nbconvert_exporter": "python",
      "pygments_lexer": "ipython3",
      "version": "3.10.0"
    },
    "latex_envs": {
      "LaTeX_envs_menu_present": true,
      "autoclose": false,
      "autocomplete": true,
      "bibliofile": "biblio.bib",
      "cite_by": "apalike",
      "current_citInitial": 1,
      "eqLabelWithNumbers": true,
      "eqNumInitial": 1,
      "hotkeys": {
        "equation": "Ctrl-E",
        "itemize": "Ctrl-I"
      },
      "labels_anchors": false,
      "latex_user_defs": false,
      "report_style_numbering": false,
      "user_envs_cfg": false
    }
  },
  "nbformat": 4,
  "nbformat_minor": 0
}